{
  "nbformat": 4,
  "nbformat_minor": 0,
  "metadata": {
    "colab": {
      "provenance": []
    },
    "kernelspec": {
      "name": "python3",
      "display_name": "Python 3"
    },
    "language_info": {
      "name": "python"
    }
  },
  "cells": [
    {
      "cell_type": "markdown",
      "source": [
        "THis algorihtm combines quantum and classic approaches by splitting up the problem into smaller sections, that way you don't need to use as many qubits for a certain square (you actually only need shortest_side_lengt - 2) qubits but there is a constraint: you need to have every possible combo on the edge so the easiest is the cross, blank, horizontal, and vertical. You could also alterntaivly instead of the corss have the four L's but thats more qubits. This is a pretty heavy constraint but you need it because of how its partly classical.\n",
        "\n",
        "A future way to ease this constriant slightly is to start at one corner to start generation. This has the benefit of that you only need to have all possible combos for two edges so you only have to have two sides constrained ex) instead of needing the four L's you only need 2. The main reason for this constriant is that because there is classic it doesn't have the quantum advantage of foresight that should be there on a large scale. Not really a way to completely remedy it that I can think of unless there's some gaurenteed patern but in most cases that specific to the tiles you have\n",
        "\n",
        "How the algorithm works: you generate the middle tile a(4 tiles if even 1 if odd) then generate the sides and corners and go out from there. COuld be sped up with multiplexing/threading idk which one lol i always get thme mixed up.\n",
        "\n"
      ],
      "metadata": {
        "id": "uwR9_hbyR9PR"
      }
    },
    {
      "cell_type": "code",
      "execution_count": 10,
      "metadata": {
        "colab": {
          "base_uri": "https://localhost:8080/"
        },
        "id": "URAZfN-WGmeg",
        "outputId": "4caa2012-41cb-4573-dd50-7d331a22633d"
      },
      "outputs": [
        {
          "output_type": "stream",
          "name": "stdout",
          "text": [
            "Requirement already satisfied: qiskit in /usr/local/lib/python3.10/dist-packages (1.1.0)\n",
            "Requirement already satisfied: rustworkx>=0.14.0 in /usr/local/lib/python3.10/dist-packages (from qiskit) (0.14.2)\n",
            "Requirement already satisfied: numpy<3,>=1.17 in /usr/local/lib/python3.10/dist-packages (from qiskit) (1.25.2)\n",
            "Requirement already satisfied: scipy>=1.5 in /usr/local/lib/python3.10/dist-packages (from qiskit) (1.11.4)\n",
            "Requirement already satisfied: sympy>=1.3 in /usr/local/lib/python3.10/dist-packages (from qiskit) (1.12)\n",
            "Requirement already satisfied: dill>=0.3 in /usr/local/lib/python3.10/dist-packages (from qiskit) (0.3.8)\n",
            "Requirement already satisfied: python-dateutil>=2.8.0 in /usr/local/lib/python3.10/dist-packages (from qiskit) (2.8.2)\n",
            "Requirement already satisfied: stevedore>=3.0.0 in /usr/local/lib/python3.10/dist-packages (from qiskit) (5.2.0)\n",
            "Requirement already satisfied: typing-extensions in /usr/local/lib/python3.10/dist-packages (from qiskit) (4.11.0)\n",
            "Requirement already satisfied: symengine>=0.11 in /usr/local/lib/python3.10/dist-packages (from qiskit) (0.11.0)\n",
            "Requirement already satisfied: six>=1.5 in /usr/local/lib/python3.10/dist-packages (from python-dateutil>=2.8.0->qiskit) (1.16.0)\n",
            "Requirement already satisfied: pbr!=2.1.0,>=2.0.0 in /usr/local/lib/python3.10/dist-packages (from stevedore>=3.0.0->qiskit) (6.0.0)\n",
            "Requirement already satisfied: mpmath>=0.19 in /usr/local/lib/python3.10/dist-packages (from sympy>=1.3->qiskit) (1.3.0)\n",
            "Requirement already satisfied: qiskit-aer in /usr/local/lib/python3.10/dist-packages (0.14.1)\n",
            "Requirement already satisfied: qiskit>=0.45.0 in /usr/local/lib/python3.10/dist-packages (from qiskit-aer) (1.1.0)\n",
            "Requirement already satisfied: numpy>=1.16.3 in /usr/local/lib/python3.10/dist-packages (from qiskit-aer) (1.25.2)\n",
            "Requirement already satisfied: scipy>=1.0 in /usr/local/lib/python3.10/dist-packages (from qiskit-aer) (1.11.4)\n",
            "Requirement already satisfied: psutil>=5 in /usr/local/lib/python3.10/dist-packages (from qiskit-aer) (5.9.5)\n",
            "Requirement already satisfied: rustworkx>=0.14.0 in /usr/local/lib/python3.10/dist-packages (from qiskit>=0.45.0->qiskit-aer) (0.14.2)\n",
            "Requirement already satisfied: sympy>=1.3 in /usr/local/lib/python3.10/dist-packages (from qiskit>=0.45.0->qiskit-aer) (1.12)\n",
            "Requirement already satisfied: dill>=0.3 in /usr/local/lib/python3.10/dist-packages (from qiskit>=0.45.0->qiskit-aer) (0.3.8)\n",
            "Requirement already satisfied: python-dateutil>=2.8.0 in /usr/local/lib/python3.10/dist-packages (from qiskit>=0.45.0->qiskit-aer) (2.8.2)\n",
            "Requirement already satisfied: stevedore>=3.0.0 in /usr/local/lib/python3.10/dist-packages (from qiskit>=0.45.0->qiskit-aer) (5.2.0)\n",
            "Requirement already satisfied: typing-extensions in /usr/local/lib/python3.10/dist-packages (from qiskit>=0.45.0->qiskit-aer) (4.11.0)\n",
            "Requirement already satisfied: symengine>=0.11 in /usr/local/lib/python3.10/dist-packages (from qiskit>=0.45.0->qiskit-aer) (0.11.0)\n",
            "Requirement already satisfied: six>=1.5 in /usr/local/lib/python3.10/dist-packages (from python-dateutil>=2.8.0->qiskit>=0.45.0->qiskit-aer) (1.16.0)\n",
            "Requirement already satisfied: pbr!=2.1.0,>=2.0.0 in /usr/local/lib/python3.10/dist-packages (from stevedore>=3.0.0->qiskit>=0.45.0->qiskit-aer) (6.0.0)\n",
            "Requirement already satisfied: mpmath>=0.19 in /usr/local/lib/python3.10/dist-packages (from sympy>=1.3->qiskit>=0.45.0->qiskit-aer) (1.3.0)\n",
            "Requirement already satisfied: qiskit-optimization in /usr/local/lib/python3.10/dist-packages (0.6.1)\n",
            "Requirement already satisfied: qiskit>=0.44 in /usr/local/lib/python3.10/dist-packages (from qiskit-optimization) (1.1.0)\n",
            "Requirement already satisfied: qiskit-algorithms>=0.2.0 in /usr/local/lib/python3.10/dist-packages (from qiskit-optimization) (0.3.0)\n",
            "Requirement already satisfied: scipy>=1.9.0 in /usr/local/lib/python3.10/dist-packages (from qiskit-optimization) (1.11.4)\n",
            "Requirement already satisfied: numpy>=1.17 in /usr/local/lib/python3.10/dist-packages (from qiskit-optimization) (1.25.2)\n",
            "Requirement already satisfied: docplex!=2.24.231,>=2.21.207 in /usr/local/lib/python3.10/dist-packages (from qiskit-optimization) (2.27.239)\n",
            "Requirement already satisfied: setuptools>=40.1.0 in /usr/local/lib/python3.10/dist-packages (from qiskit-optimization) (67.7.2)\n",
            "Requirement already satisfied: networkx>=2.6.3 in /usr/local/lib/python3.10/dist-packages (from qiskit-optimization) (3.3)\n",
            "Requirement already satisfied: six in /usr/local/lib/python3.10/dist-packages (from docplex!=2.24.231,>=2.21.207->qiskit-optimization) (1.16.0)\n",
            "Requirement already satisfied: rustworkx>=0.14.0 in /usr/local/lib/python3.10/dist-packages (from qiskit>=0.44->qiskit-optimization) (0.14.2)\n",
            "Requirement already satisfied: sympy>=1.3 in /usr/local/lib/python3.10/dist-packages (from qiskit>=0.44->qiskit-optimization) (1.12)\n",
            "Requirement already satisfied: dill>=0.3 in /usr/local/lib/python3.10/dist-packages (from qiskit>=0.44->qiskit-optimization) (0.3.8)\n",
            "Requirement already satisfied: python-dateutil>=2.8.0 in /usr/local/lib/python3.10/dist-packages (from qiskit>=0.44->qiskit-optimization) (2.8.2)\n",
            "Requirement already satisfied: stevedore>=3.0.0 in /usr/local/lib/python3.10/dist-packages (from qiskit>=0.44->qiskit-optimization) (5.2.0)\n",
            "Requirement already satisfied: typing-extensions in /usr/local/lib/python3.10/dist-packages (from qiskit>=0.44->qiskit-optimization) (4.11.0)\n",
            "Requirement already satisfied: symengine>=0.11 in /usr/local/lib/python3.10/dist-packages (from qiskit>=0.44->qiskit-optimization) (0.11.0)\n",
            "Requirement already satisfied: pbr!=2.1.0,>=2.0.0 in /usr/local/lib/python3.10/dist-packages (from stevedore>=3.0.0->qiskit>=0.44->qiskit-optimization) (6.0.0)\n",
            "Requirement already satisfied: mpmath>=0.19 in /usr/local/lib/python3.10/dist-packages (from sympy>=1.3->qiskit>=0.44->qiskit-optimization) (1.3.0)\n",
            "Requirement already satisfied: qiskit_algorithms in /usr/local/lib/python3.10/dist-packages (0.3.0)\n",
            "Requirement already satisfied: qiskit>=0.44 in /usr/local/lib/python3.10/dist-packages (from qiskit_algorithms) (1.1.0)\n",
            "Requirement already satisfied: scipy>=1.4 in /usr/local/lib/python3.10/dist-packages (from qiskit_algorithms) (1.11.4)\n",
            "Requirement already satisfied: numpy>=1.17 in /usr/local/lib/python3.10/dist-packages (from qiskit_algorithms) (1.25.2)\n",
            "Requirement already satisfied: rustworkx>=0.14.0 in /usr/local/lib/python3.10/dist-packages (from qiskit>=0.44->qiskit_algorithms) (0.14.2)\n",
            "Requirement already satisfied: sympy>=1.3 in /usr/local/lib/python3.10/dist-packages (from qiskit>=0.44->qiskit_algorithms) (1.12)\n",
            "Requirement already satisfied: dill>=0.3 in /usr/local/lib/python3.10/dist-packages (from qiskit>=0.44->qiskit_algorithms) (0.3.8)\n",
            "Requirement already satisfied: python-dateutil>=2.8.0 in /usr/local/lib/python3.10/dist-packages (from qiskit>=0.44->qiskit_algorithms) (2.8.2)\n",
            "Requirement already satisfied: stevedore>=3.0.0 in /usr/local/lib/python3.10/dist-packages (from qiskit>=0.44->qiskit_algorithms) (5.2.0)\n",
            "Requirement already satisfied: typing-extensions in /usr/local/lib/python3.10/dist-packages (from qiskit>=0.44->qiskit_algorithms) (4.11.0)\n",
            "Requirement already satisfied: symengine>=0.11 in /usr/local/lib/python3.10/dist-packages (from qiskit>=0.44->qiskit_algorithms) (0.11.0)\n",
            "Requirement already satisfied: six>=1.5 in /usr/local/lib/python3.10/dist-packages (from python-dateutil>=2.8.0->qiskit>=0.44->qiskit_algorithms) (1.16.0)\n",
            "Requirement already satisfied: pbr!=2.1.0,>=2.0.0 in /usr/local/lib/python3.10/dist-packages (from stevedore>=3.0.0->qiskit>=0.44->qiskit_algorithms) (6.0.0)\n",
            "Requirement already satisfied: mpmath>=0.19 in /usr/local/lib/python3.10/dist-packages (from sympy>=1.3->qiskit>=0.44->qiskit_algorithms) (1.3.0)\n"
          ]
        }
      ],
      "source": [
        "!pip install qiskit\n",
        "from qiskit import *\n",
        "!pip install qiskit-aer\n",
        "!pip install qiskit-optimization\n",
        "!pip install qiskit_algorithms"
      ]
    },
    {
      "cell_type": "code",
      "source": [
        "import qiskit_algorithms\n",
        "from qiskit_algorithms.utils import algorithm_globals\n",
        "from qiskit_algorithms.minimum_eigensolvers import QAOA, NumPyMinimumEigensolver\n",
        "from qiskit_algorithms.optimizers import COBYLA\n",
        "from qiskit.primitives import Sampler\n",
        "from qiskit_optimization.algorithms import (\n",
        "    MinimumEigenOptimizer,\n",
        "    RecursiveMinimumEigenOptimizer,\n",
        "    SolutionSample,\n",
        "    OptimizationResultStatus,\n",
        ")\n",
        "from qiskit_optimization import *\n",
        "from qiskit_optimization.converters import QuadraticProgramToQubo\n",
        "from qiskit.visualization import plot_histogram\n",
        "from typing import List, Tuple\n",
        "import numpy as np\n",
        "import math"
      ],
      "metadata": {
        "id": "Nskt2AdfIPXq"
      },
      "execution_count": 11,
      "outputs": []
    },
    {
      "cell_type": "code",
      "source": [
        "def get_filtered_samples(\n",
        "    samples: List[SolutionSample],\n",
        "    threshold: float = 0,\n",
        "    allowed_status: Tuple[OptimizationResultStatus] = (OptimizationResultStatus.SUCCESS,),\n",
        "):\n",
        "    res = []\n",
        "    for s in samples:\n",
        "        if s.status in allowed_status and s.probability > threshold:\n",
        "            res.append(s)\n",
        "\n",
        "    return res"
      ],
      "metadata": {
        "id": "YXpSBqR7dyRQ"
      },
      "execution_count": 12,
      "outputs": []
    },
    {
      "cell_type": "code",
      "source": [
        "def generate_corners(combos, way1, way2, constrained1, constrained2):\n",
        "  qubo = QuadraticProgram()\n",
        "  #initializing variables\n",
        "  for i in range(1):\n",
        "      for k in combos:\n",
        "        qubo.binary_var(f\"{i}{k}\")\n",
        "\n",
        "  #number of options\n",
        "  linear = [1] * (len(combos))\n",
        "  qubo.minimize(linear=linear, quadratic={})\n",
        "  constraints = {}\n",
        "  constraintConstrained = {}\n",
        "  total = 0\n",
        "  curr = 1\n",
        "  #only one in each box\n",
        "  for k in range(1):\n",
        "    total += curr\n",
        "    for i in range(len(combos)):\n",
        "      constraints[f\"{k}{combos[i]}\"] = curr\n",
        "      constraintConstrained[f\"{k}{combos[i]}\"] = 0\n",
        "    curr *= 10\n",
        "  qubo.linear_constraint(linear=constraints, sense=\"==\", rhs=total)\n",
        "\n",
        "  curr = 1\n",
        "  #Right and left\n",
        "  for combo in combos: #for each combo\n",
        "      constraintConstrained[f\"{0}{combo}\"] = (int(combo[way1]) + 1) * curr\n",
        "      constraintConstrained[f\"{0}{combo}\"] += (int(combo[way2]) + 1) * curr * 10\n",
        "\n",
        "  #constraintConstrained[\"block1\"] = (int(constrained1) + 1) * -1\n",
        "  #constraintConstrained[\"block2\"] = (int(constrained2) + 1) * -10\n",
        "  qubo.linear_constraint(linear=constraintConstrained, sense=\"==\", rhs=((int(constrained1) + 1)  + (int(constrained2) + 1) * 10))\n",
        "\n",
        "  #Quantum part\n",
        "  converter = QuadraticProgramToQubo()\n",
        "  qubo_with_penalty = converter.convert(qubo)\n",
        "  op, offset = qubo_with_penalty.to_ising()\n",
        "  qaoa_mes = QAOA(sampler=Sampler(), optimizer=COBYLA())\n",
        "  qaoa = MinimumEigenOptimizer(qaoa_mes)  # using QAOA\n",
        "  qaoa_result = qaoa.solve(qubo)\n",
        "\n",
        "  filtered_samples = get_filtered_samples(\n",
        "    qaoa_result.samples, threshold=0.00001, allowed_status=(OptimizationResultStatus.SUCCESS,)\n",
        "  )\n",
        "\n",
        "  samples_for_plot = {}\n",
        "  for s in filtered_samples:\n",
        "        x = 0\n",
        "        sample_str = \" \".join(f\"{qaoa_result.variables[i].name}={int(v)}\" for i, v in enumerate(s.x))\n",
        "\n",
        "        samples_for_plot[sample_str] = s.probability\n",
        "  length = len(samples_for_plot)\n",
        "  samples_for_plot = {}\n",
        "  w, h = 1, length #h is number probailitues\n",
        "  arr = [[0 for x in range(w)] for y in range(h)]\n",
        "  l = 0\n",
        "\n",
        "  for s in filtered_samples:\n",
        "      x = 0\n",
        "      sample_str = \" \".join(f\"{qaoa_result.variables[i].name}={int(v)}\" for i, v in enumerate(s.x))\n",
        "\n",
        "      samples_for_plot[sample_str] = s.probability\n",
        "      for i, v in enumerate(s.x):\n",
        "          if int(v) == 1 and x < 2:\n",
        "              arr[l][x] = qaoa_result.variables[i].name[1:]\n",
        "              x+=1\n",
        "      l += 1\n",
        "  return arr[0]\n"
      ],
      "metadata": {
        "id": "hHbsTqMFXPry"
      },
      "execution_count": 13,
      "outputs": []
    },
    {
      "cell_type": "code",
      "source": [
        "def generate_base(combos, shortest_side):\n",
        "  if shortest_side % 2 == 0:\n",
        "    side_length = 2\n",
        "  else:\n",
        "    side_length = 1\n",
        "\n",
        "  qubo = QuadraticProgram()\n",
        "  #initializing variables\n",
        "  for i in range(side_length):\n",
        "      for k in combos:\n",
        "        qubo.binary_var(f\"{i}{k}\")\n",
        "\n",
        "  #number of options\n",
        "  linear = [1] * (side_length * len(combos))\n",
        "  qubo.minimize(linear=linear, quadratic={})\n",
        "\n",
        "  constraints = {}\n",
        "  total = 0\n",
        "  constraintRand = {}\n",
        "  curr = 1\n",
        "\n",
        "  #only one in each box\n",
        "  for k in range(side_length):\n",
        "    total += curr\n",
        "    for i in range(len(combos)):\n",
        "      constraintRand[f\"{k}{combos[i]}\"] = 0\n",
        "      constraints[f\"{k}{combos[i]}\"] = curr\n",
        "    curr *= 10\n",
        "  qubo.linear_constraint(linear=constraints, sense=\"==\", rhs=total)\n",
        "\n",
        "  if (side_length > 1):\n",
        "    #Right and left must be aligned\n",
        "  #Way your not looking at\n",
        "    curr = 1\n",
        "    for i in range(side_length):\n",
        "      if i == 0: #if we're on one side of the end we only looks at the right value\n",
        "        curr *= 10\n",
        "        for combo in combos: #for each combo\n",
        "          constraintRand[f\"{i}{combo}\"] = constraintRand[f\"{i}{combo}\"] + ((int(combo[1]) + 1) * curr)\n",
        "      elif i  == (side_length - 1): #if we're on other side of end\n",
        "          for combo in combos:\n",
        "            constraintRand[f\"{i}{combo}\"] = constraintRand[f\"{i}{combo}\"] + ((int(combo[3]) + 1) * curr) * -1 #only looks at the left value\n",
        "      else: #if we're in middle\n",
        "          for combo in combos:\n",
        "            constraintRand[f\"{i}{combo}\"] = constraintRand[f\"{i}{combo}\"] + ((int(combo[3]) + 1) * curr) * -1\n",
        "          curr *= 10 #we multiply in the middle since we want the left to be same as previous right\n",
        "          for combo in combos:\n",
        "            constraintRand[f\"{i}{combo}\"] = constraintRand[f\"{i}{combo}\"] + ((int(combo[1]) + 1) * curr)\n",
        "    qubo.linear_constraint(linear=constraintRand, sense=\"==\", rhs=0)\n",
        "\n",
        "  #quanutm stuff\n",
        "  converter = QuadraticProgramToQubo()\n",
        "  qubo_with_penalty = converter.convert(qubo)\n",
        "  op, offset = qubo_with_penalty.to_ising()\n",
        "  qaoa_mes = QAOA(sampler=Sampler(), optimizer=COBYLA())\n",
        "  qaoa = MinimumEigenOptimizer(qaoa_mes)  # using QAOA\n",
        "  qaoa_result = qaoa.solve(qubo)\n",
        "\n",
        "  filtered_samples = get_filtered_samples(\n",
        "    qaoa_result.samples, threshold=0.00001, allowed_status=(OptimizationResultStatus.SUCCESS,)\n",
        "  )\n",
        "\n",
        "  samples_for_plot = {}\n",
        "  for s in filtered_samples:\n",
        "        x = 0\n",
        "        sample_str = \" \".join(f\"{qaoa_result.variables[i].name}={int(v)}\" for i, v in enumerate(s.x))\n",
        "\n",
        "        samples_for_plot[sample_str] = s.probability\n",
        "  length = len(samples_for_plot)\n",
        "  samples_for_plot = {}\n",
        "  w, h = side_length, length #h is number probailitues\n",
        "  arr = [[0 for x in range(w)] for y in range(h)]\n",
        "  l = 0\n",
        "\n",
        "  for s in filtered_samples:\n",
        "      x = 0\n",
        "      sample_str = \" \".join(f\"{qaoa_result.variables[i].name}={int(v)}\" for i, v in enumerate(s.x))\n",
        "\n",
        "      samples_for_plot[sample_str] = s.probability\n",
        "      for i, v in enumerate(s.x):\n",
        "          if int(v) == 1 and x < 2:\n",
        "              arr[l][x] = qaoa_result.variables[i].name[1:]\n",
        "              x+=1\n",
        "      l += 1\n",
        "  return arr[len(arr) - 1]\n"
      ],
      "metadata": {
        "id": "FM73tWoJW_hf"
      },
      "execution_count": 14,
      "outputs": []
    },
    {
      "cell_type": "code",
      "source": [
        "def generate_side(side_length, way, desired, combos):\n",
        "  qubo = QuadraticProgram()\n",
        "  #initializing variables\n",
        "  for i in range(side_length):\n",
        "      for k in combos:\n",
        "        qubo.binary_var(f\"{i}{k}\")\n",
        "  for i in range(side_length):\n",
        "    qubo.binary_var(f\"block{i}\")\n",
        "\n",
        "  #number of options\n",
        "  linear = [1] * (side_length * len(combos) + side_length)\n",
        "  qubo.minimize(linear=linear, quadratic={})\n",
        "\n",
        "  constraints = {}\n",
        "  constraintRand = {}\n",
        "  constraintConstrained = {}\n",
        "  total = 0\n",
        "  curr = 1\n",
        "\n",
        "  #only one in each box\n",
        "  for k in range(side_length):\n",
        "    total += curr\n",
        "    for i in range(len(combos)):\n",
        "      constraints[f\"{k}{combos[i]}\"] = curr\n",
        "      constraintRand[f\"{k}{combos[i]}\"] = 0\n",
        "      constraintConstrained[f\"{k}{combos[i]}\"] = 0\n",
        "    curr *= 10\n",
        "  qubo.linear_constraint(linear=constraints, sense=\"==\", rhs=total)\n",
        "  #Way your not looking at\n",
        "  if (way % 2 == 0):\n",
        "    ####### TOP-DOWN GEN STARTS ##########################################################################\n",
        "    curr = 1\n",
        "    if (side_length > 1):\n",
        "      for i in range(side_length):\n",
        "        if i == 0: #if we're on one side of the end we only looks at the right value\n",
        "          curr *= 10\n",
        "          for combo in combos: #for each combo\n",
        "            constraintRand[f\"{i}{combo}\"] = constraintRand[f\"{i}{combo}\"] + ((int(combo[1]) + 1) * curr)\n",
        "        elif i  == (side_length - 1): #if we're on other side of end\n",
        "            for combo in combos:\n",
        "              constraintRand[f\"{i}{combo}\"] = constraintRand[f\"{i}{combo}\"] + ((int(combo[3]) + 1) * curr) * -1 #only looks at the left value\n",
        "        else: #if we're in middle\n",
        "            for combo in combos:\n",
        "              constraintRand[f\"{i}{combo}\"] = constraintRand[f\"{i}{combo}\"] + ((int(combo[3]) + 1) * curr) * -1\n",
        "            curr *= 10 #we multiply in the middle since we want the left to be same as previous right\n",
        "            for combo in combos:\n",
        "              constraintRand[f\"{i}{combo}\"] = constraintRand[f\"{i}{combo}\"] + ((int(combo[1]) + 1) * curr)\n",
        "      qubo.linear_constraint(linear=constraintRand, sense=\"==\", rhs=0)\n",
        "\n",
        "    curr = 1\n",
        "    #top and bottom must be aligned correctly\n",
        "    for i in range(side_length):\n",
        "          for combo in combos: #for each combo\n",
        "            constraintConstrained[f\"{i}{combo}\"] = (int(combo[(way+2)%4]) + 1) * curr\n",
        "          constraintConstrained[f\"block{i}\"] = (int(desired[i][way]) + 1) * -1 * curr\n",
        "          curr *= 10\n",
        "    qubo.linear_constraint(linear=constraintConstrained, sense=\"==\", rhs=0)\n",
        "  else:\n",
        "    ####### RIGHT_LEFT STARTS ##########################################################################\n",
        "      for i in range(side_length):\n",
        "        for combo in combos: #for each combo\n",
        "          constraintConstrained[f\"{i}{combo}\"] = (int(combo[(way+2)%4]) + 1) * curr\n",
        "        constraintConstrained[f\"block{i}\"] = (int(desired[i][way]) + 1) * -1 * curr\n",
        "        curr *= 10\n",
        "      qubo.linear_constraint(linear=constraintConstrained, sense=\"==\", rhs=0)\n",
        "\n",
        "      #Right and left must be aligned\n",
        "      #Way your not looking at\n",
        "\n",
        "      curr = 1\n",
        "      if (side_length > 1):\n",
        "        for i in range(side_length):\n",
        "          if i == 0: #if we're on one side of the end we only looks at the right value\n",
        "            curr *= 10\n",
        "            for combo in combos: #for each combo\n",
        "              constraintRand[f\"{i}{combo}\"] = constraintRand[f\"{i}{combo}\"] + ((int(combo[2]) + 1) * curr)\n",
        "          elif i  == (side_length - 1): #if we're on other side of end\n",
        "              for combo in combos:\n",
        "                constraintRand[f\"{i}{combo}\"] = constraintRand[f\"{i}{combo}\"] + ((int(combo[0]) + 1) * curr) * -1 #only looks at the left value\n",
        "          else: #if we're in middle\n",
        "              for combo in combos:\n",
        "                constraintRand[f\"{i}{combo}\"] = constraintRand[f\"{i}{combo}\"] + ((int(combo[0]) + 1) * curr) * -1\n",
        "              curr *= 10 #we multiply in the middle since we want the left to be same as previous right\n",
        "              for combo in combos:\n",
        "                constraintRand[f\"{i}{combo}\"] = constraintRand[f\"{i}{combo}\"] + ((int(combo[2]) + 1) * curr)\n",
        "      qubo.linear_constraint(linear=constraintRand, sense=\"==\", rhs=0)\n",
        "  ####### RIGHT-LEFT ENDS ##########################################################################\n",
        "    #quanutm stuff\n",
        "  converter = QuadraticProgramToQubo()\n",
        "  qubo_with_penalty = converter.convert(qubo)\n",
        "  op, offset = qubo_with_penalty.to_ising()\n",
        "  qaoa_mes = QAOA(sampler=Sampler(), optimizer=COBYLA())\n",
        "  qaoa = MinimumEigenOptimizer(qaoa_mes)  # using QAOA\n",
        "  qaoa_result = qaoa.solve(qubo)\n",
        "\n",
        "  filtered_samples = get_filtered_samples(\n",
        "    qaoa_result.samples, threshold=0.00001, allowed_status=(OptimizationResultStatus.SUCCESS,)\n",
        "  )\n",
        "  samples_for_plot = {}\n",
        "  for s in filtered_samples:\n",
        "        x = 0\n",
        "        sample_str = \" \".join(f\"{qaoa_result.variables[i].name}={int(v)}\" for i, v in enumerate(s.x))\n",
        "\n",
        "        samples_for_plot[sample_str] = s.probability\n",
        "\n",
        "  length = len(samples_for_plot)\n",
        "  samples_for_plot = {}\n",
        "  w, h = side_length, length #h is number probailitues\n",
        "  arr = [[0 for x in range(w)] for y in range(h)]\n",
        "\n",
        "  l = 0\n",
        "\n",
        "  for s in filtered_samples:\n",
        "      x = 0\n",
        "      sample_str = \" \".join(f\"{qaoa_result.variables[i].name}={int(v)}\" for i, v in enumerate(s.x))\n",
        "      samples_for_plot[sample_str] = s.probability\n",
        "      for i, v in enumerate(s.x[:-1*side_length]):\n",
        "          if int(v) == 1 and x < 2:\n",
        "              arr[l][x] = qaoa_result.variables[i].name[1:]\n",
        "              x+=1\n",
        "      l += 1\n",
        "  return arr[0]"
      ],
      "metadata": {
        "id": "wiYC3YJTIJVg"
      },
      "execution_count": 15,
      "outputs": []
    },
    {
      "cell_type": "code",
      "source": [
        "def set_elements_rows(array, x, y, values):\n",
        "    # Set elements in row x from column y to y+len(values)-1\n",
        "    array[x][y:y+len(values)] = values"
      ],
      "metadata": {
        "id": "hFFu9pGzsKpD"
      },
      "execution_count": 16,
      "outputs": []
    },
    {
      "cell_type": "code",
      "source": [
        "def set_elements_cols(array, x, y, values):\n",
        "    num_rows = len(values)\n",
        "    # Set elements in rows x to x + num_rows - 1\n",
        "    for i in range(num_rows):\n",
        "        array[x + i][y] = values[i]"
      ],
      "metadata": {
        "id": "LW5BU7gJsq4j"
      },
      "execution_count": 17,
      "outputs": []
    },
    {
      "cell_type": "code",
      "source": [
        "def generate_map(width, height, combos):\n",
        "  smallest_dimension = int(min(width,height))\n",
        "  half_smallest_dimension= int(smallest_dimension/2)\n",
        "\n",
        "  ########### GENERATING BASE ##########################################\n",
        "  base = generate_base(combos, smallest_dimension )\n",
        "  arr = [[-1 for _ in range(width)] for _ in range(height)]\n",
        "  top,right,left,bottom = half_smallest_dimension, half_smallest_dimension, half_smallest_dimension, half_smallest_dimension\n",
        "  curr_side_len = 2\n",
        "\n",
        "  if ( smallest_dimension % 2 == 0):\n",
        "    top = half_smallest_dimension - 1\n",
        "    left = half_smallest_dimension - 1\n",
        "    base_top_half = generate_side(2,0,base,combos)\n",
        "    arr[(half_smallest_dimension)-1][(half_smallest_dimension)-1] = base_top_half[0]\n",
        "    arr[(half_smallest_dimension)-1][(half_smallest_dimension)] = base_top_half[1]\n",
        "    arr[(half_smallest_dimension)][(half_smallest_dimension)-1] = base[0]\n",
        "    arr[(half_smallest_dimension)][(half_smallest_dimension)] = base[1]\n",
        "\n",
        "  else:\n",
        "    curr_side_len = 1\n",
        "    arr[half_smallest_dimension][half_smallest_dimension] = base[0]\n",
        "\n",
        "  ########### GENERATING SQUARE ##########################################\n",
        "  while curr_side_len <= ((smallest_dimension)-2):\n",
        "    top_side = generate_side(curr_side_len,0,arr[top][left:right+1],combos)\n",
        "    bottom_side = generate_side(curr_side_len,2,arr[bottom][left:right+1],combos)\n",
        "    right_side = generate_side(curr_side_len,1,[row[right] for row in arr[top:bottom + 1]],combos)\n",
        "    left_side = generate_side(curr_side_len,3,[row[left] for row in arr[top:bottom + 1]],combos)\n",
        "    set_elements_rows(arr, top-1, left, top_side)\n",
        "    set_elements_rows(arr, bottom+1, left, bottom_side)\n",
        "    set_elements_cols(arr,  top, left-1, left_side)\n",
        "    set_elements_cols(arr,  top, right+1, right_side)\n",
        "    top -= 1\n",
        "    bottom +=1\n",
        "    right += 1\n",
        "    left -=1\n",
        "    curr_side_len+=2\n",
        "\n",
        "\n",
        "    ##now generating corners ugh\n",
        "    arr[top][left] = generate_corners(combos, 1, 2, arr[top][left+1][3], arr[top+1][left][0])[0]\n",
        "    arr[top][right]  = generate_corners(combos, 2, 3, arr[top+1][right][0], arr[top][right-1][1])[0]\n",
        "    arr[bottom][left] = generate_corners(combos, 0, 1, arr[bottom-1][left][2], arr[bottom][left+1][3])[0]\n",
        "    arr[bottom][right]  = generate_corners(combos, 0, 3, arr[bottom-1][right][2], arr[bottom][right-1][1])[0]\n",
        "\n",
        "\n",
        "  while (right-left+1) < width: #its lacking in width, generate to the right\n",
        "    right_side = generate_side(curr_side_len,1,[row[right] for row in arr[top:bottom + 1]],combos)\n",
        "    right += 1\n",
        "    set_elements_cols(arr,  top, right, right_side)\n",
        "\n",
        "\n",
        "  while(bottom-top+1) < height: #its lacking in hegith, generate to the bottom\n",
        "    bottom_side = generate_side(curr_side_len,2,[col[bottom]for col in arr[left:right+1]],combos)\n",
        "    bottom +=1\n",
        "    set_elements_rows(arr, bottom, left, bottom_side)\n",
        "  return arr"
      ],
      "metadata": {
        "id": "WtO2WJIxSqzY"
      },
      "execution_count": 82,
      "outputs": []
    },
    {
      "cell_type": "code",
      "source": [
        "# TODO: generate picture\n",
        "import matplotlib.pyplot as plt\n",
        "import numpy as np\n",
        "\n",
        "def drawCorner(grid, ind, row, col, box):\n",
        "    if box[ind] == '1':\n",
        "        grid[row, col] = [0, 0, 0]\n",
        "\n",
        "def drawBox(box):\n",
        "    grid = np.ones((3, 3, 3))\n",
        "    if box != \"0000\":\n",
        "        grid[1, 1] = [0, 0, 0]\n",
        "\n",
        "    drawCorner(grid, 0, 0, 1, box)\n",
        "    drawCorner(grid, 1, 1, 2, box)\n",
        "    drawCorner(grid, 2, 2, 1, box)\n",
        "    drawCorner(grid, 3, 1, 0, box)\n",
        "    return grid\n",
        "\n",
        "def drawMap(map_arr, col, row):\n",
        "    h_arr = []\n",
        "    for i in range(row):\n",
        "        row_arr = []\n",
        "        for j in range(col):\n",
        "            row_arr.append(drawBox(map_arr[i][j]))  # Note: map_arr[j][i] should be map_arr[i][j]\n",
        "        h_arr.append(np.hstack(row_arr))\n",
        "    graph = np.vstack(h_arr)\n",
        "    plt.imshow(graph)\n",
        "    plt.axis('off')\n",
        "    plt.show()\n",
        "    print(\"\")\n"
      ],
      "metadata": {
        "id": "W_ESgpQKNN0G"
      },
      "execution_count": 42,
      "outputs": []
    },
    {
      "cell_type": "code",
      "source": [
        "combos = ['0000','0110','1111', '0101', '1010']\n",
        "graph_arr_rep = generate_map(4,2,combos)\n",
        "drawMap(graph_arr_rep, 4, 2)"
      ],
      "metadata": {
        "id": "Z7i2Uu4Z8-3m",
        "colab": {
          "base_uri": "https://localhost:8080/",
          "height": 302
        },
        "outputId": "eb8e1fb0-2f85-405f-c6cc-7ec1510be866"
      },
      "execution_count": 43,
      "outputs": [
        {
          "output_type": "display_data",
          "data": {
            "text/plain": [
              "<Figure size 640x480 with 1 Axes>"
            ],
            "image/png": "[encoded data removed]"
          },
          "metadata": {}
        },
        {
          "output_type": "stream",
          "name": "stdout",
          "text": [
            "\n"
          ]
        }
      ]
    },
    {
      "cell_type": "code",
      "source": [
        "graph_arr_rep = generate_map(2,3,combos)\n",
        "drawMap(graph_arr_rep, 2, 3)"
      ],
      "metadata": {
        "colab": {
          "base_uri": "https://localhost:8080/",
          "height": 423
        },
        "id": "nICFX7gcYmee",
        "outputId": "f0f7c8ef-f349-4a2e-a47b-e46ec8d48430"
      },
      "execution_count": 84,
      "outputs": [
        {
          "output_type": "display_data",
          "data": {
            "text/plain": [
              "<Figure size 640x480 with 1 Axes>"
            ],
            "image/png": "[encoded data removed]"
          },
          "metadata": {}
        },
        {
          "output_type": "stream",
          "name": "stdout",
          "text": [
            "\n"
          ]
        }
      ]
    },
    {
      "cell_type": "code",
      "source": [
        "graph_arr_rep = generate_map(4,4,combos)\n",
        "drawMap(graph_arr_rep, 4, 4)"
      ],
      "metadata": {
        "colab": {
          "base_uri": "https://localhost:8080/",
          "height": 423
        },
        "id": "C7PU4aJilI56",
        "outputId": "3becc848-a747-4768-a114-1a44ea138258"
      },
      "execution_count": 83,
      "outputs": [
        {
          "output_type": "display_data",
          "data": {
            "text/plain": [
              "<Figure size 640x480 with 1 Axes>"
            ],
            "image/png": "[encoded data removed]"
          },
          "metadata": {}
        },
        {
          "output_type": "stream",
          "name": "stdout",
          "text": [
            "\n"
          ]
        }
      ]
    }
  ]
}